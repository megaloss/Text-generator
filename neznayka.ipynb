{
 "cells": [
  {
   "cell_type": "code",
   "execution_count": 1,
   "metadata": {},
   "outputs": [],
   "source": [
    "from nltk import tokenize, FreqDist\n",
    "from nltk.corpus import stopwords\n",
    "from google_trans_new import google_translator\n",
    "translator = google_translator()  \n",
    "from nltk.stem import WordNetLemmatizer \n",
    "lemmatizer = WordNetLemmatizer() \n",
    "from nltk.corpus import brown\n",
    "import codecs\n",
    "import nltk\n",
    "to_remove='''\"()[];-:<>'''\n",
    "from collections import Counter\n",
    "import random\n",
    "import requests"
   ]
  },
  {
   "cell_type": "code",
   "execution_count": 2,
   "metadata": {},
   "outputs": [],
   "source": [
    "#Loading 'Neznayka' book in russian (choose one of the books)\n",
    "with codecs.open('nezn.txt',mode='r',encoding='koi8-r') as f:\n",
    "    text=f.read()"
   ]
  },
  {
   "cell_type": "code",
   "execution_count": 3,
   "metadata": {},
   "outputs": [],
   "source": [
    "# Loading a harry potter book in english\n",
    "with codecs.open('harry.txt',mode='r') as f:\n",
    "    text=f.read()"
   ]
  },
  {
   "cell_type": "code",
   "execution_count": 4,
   "metadata": {},
   "outputs": [],
   "source": [
    "# a bit of cleaning\n",
    "for i in to_remove:\n",
    "    text=text.replace(i,'')\n",
    "text=text.replace('/h2','/ul')\n"
   ]
  },
  {
   "cell_type": "code",
   "execution_count": 5,
   "metadata": {},
   "outputs": [],
   "source": [
    "#tokenize for words \n",
    "tokens = nltk.word_tokenize(text.lower())\n",
    "pairs = [ \" \".join(pair) for pair in nltk.bigrams(tokens)]"
   ]
  },
  {
   "cell_type": "code",
   "execution_count": 6,
   "metadata": {},
   "outputs": [],
   "source": [
    "#build trigrams\n",
    "trigrams=nltk.ngrams(tokens,3)"
   ]
  },
  {
   "cell_type": "code",
   "execution_count": 7,
   "metadata": {},
   "outputs": [],
   "source": [
    "pairs_dic=dict()\n",
    "for pair in pairs:\n",
    "    k,v=pair.split(' ')\n",
    "    if k in pairs_dic:\n",
    "        pairs_dic[k].extend([v])\n",
    "    else:\n",
    "        pairs_dic[k]=[v]"
   ]
  },
  {
   "cell_type": "code",
   "execution_count": 9,
   "metadata": {},
   "outputs": [],
   "source": [
    "tris_dic=dict()\n",
    "for a,b,c in trigrams:\n",
    "    abc = ' '.join([a,b])\n",
    "    \n",
    "    if abc in tris_dic:\n",
    "        tris_dic[abc].extend([c])\n",
    "    else:\n",
    "        tris_dic[abc]=[c]\n"
   ]
  },
  {
   "cell_type": "code",
   "execution_count": 10,
   "metadata": {},
   "outputs": [],
   "source": [
    "collocations={}\n",
    "for pair in pairs_dic:\n",
    "    collocations[pair]=Counter(pairs_dic[pair])\n",
    "    "
   ]
  },
  {
   "cell_type": "code",
   "execution_count": 15,
   "metadata": {},
   "outputs": [
    {
     "name": "stdout",
     "output_type": "stream",
     "text": [
      "eyes away from their extra work ? that was whispering excitedly at ronan , because they were there might not having . remember to shut neville lying next to do n't help , into the room . that , as before you , but thought you how many first time to be to the shoulder to tell her way , malfoy before he felt they 'd walked back here without saying the cannon and it 's the middle , glad to a hag never mess with shock when he told her friend third floor . professor mcgonagall 's on the students , said slowly , finally tore his large balloon inside his broomstick . if yeh must n't , and dangerous . there were so keep running into its frame , was n't believe this . within seconds ... yes ... he 's pep talk about that are , he make them led them all he's going to start a small club , grinding his legs and cantered back out cold , mr. ollivander bowed in there you two read as gamekeeper 's hands with the song ! the new resolution not six hundred and they had more brilliant or a little chat wasn't about your wand lay and floor . the treacle tart , for voldemort . i was the evil , if we could you , and hurried off he and on the concrete floor in complete silence the quaffle or madam pomfrey , as they drove toward the table , that the boy 's one another little tyke , blinking in a pile of turkey sandwiches , said . not my family , thinking ... voldemort had just one , but he could tell me , too . master ! and carved around in the pickled animals . what\n"
     ]
    }
   ],
   "source": [
    "#Create a new text using bigrams, frequency is as in the book\n",
    "\n",
    "pos=random.randrange(len(tokens))\n",
    "new=[tokens[pos],tokens[pos+1]]\n",
    "for i in range (300):\n",
    "    next_word=random.choice(pairs_dic[new[-1]])\n",
    "    new.append(next_word)\n",
    "print (' '.join(new))    "
   ]
  },
  {
   "cell_type": "code",
   "execution_count": 16,
   "metadata": {},
   "outputs": [
    {
     "name": "stdout",
     "output_type": "stream",
     "text": [
      ", there . a great adventure , harry asked percy led up a few seconds later with a little plastic sticks was so worried that ? well i 've been in time dudley . the mirror again ? ron looked very first and the ground , which he was so much of magic at it ? said . i 've found himself onto one . hagrid in front , it is n't think you know who could hear that , said malfoy in the first . harry felt the end nearest and the end . he thought about a good to find anyway there is n't think the next door of magic tricks ! it ! and i can not , they had started near here , you , and i think what i think it to do that , it 's stone taken on top branches of it to a few people were too weak to keep their eyes of him , a great muggle . hagrid in there were so he would discover it is one another pocket . but he 's . they heard quirrell ? i suppose that the way of us . i have to be , they 'd seen in their way down their ears , i was a moment ? you ? the mirror room ... you ? you 'll just thought of him a little plastic toys and the next second pair under her feet , he did harry . what was going there were his nose , who lived in here 's a little package . he 'll lose house for harry thought you do . but there 's stone 's head of magic do n't look down and i 'd be so far corner ahead he did n't see . he was\n"
     ]
    }
   ],
   "source": [
    "#Create a new text using bigrams, randomly chosen from top-13 collocations in the book\n",
    "\n",
    "pos=random.randrange(len(tokens))\n",
    "new=[tokens[pos],tokens[pos+1]]\n",
    "for i in range (300):\n",
    "    next_word=random.choice(collocations[new[-1]].most_common(13))[0]\n",
    "    new.append(next_word)\n",
    "print (' '.join(new))    "
   ]
  },
  {
   "cell_type": "code",
   "execution_count": 17,
   "metadata": {},
   "outputs": [
    {
     "name": "stdout",
     "output_type": "stream",
     "text": [
      "morning harry and ron headed upstairs , now that they were ready to buy himself a grin . something you have to say . you do n't forget that nice wrist movement we 've been out here for hours , i 've got it , you two had better get this over with . dumbledore 's orders . brought yeh ter this lot ... load of old socks and the trapdoor in years to return . malfoy , who visited the house with the invisibility cloak and stepped carefully over the country were holding up a passageway in the hospital , growled uncle vernon made furious telephone calls to the table . it was n't even reached the dividing barrier between platforms nine and threequarters ! piped a small club , which went spinning dangerously past his head torn off . he 'd promised himself about not meddling . all three of them . harry told him ? it 's the full bodybind , said harry . nasty , crunching noise and he said , 'nmat a shape ! this is it ? a lemon drop and did n't know that blackhaired boy who kept losing his toad , sniffed once or twice a minute or two to pass . when aunt petunia . he sat back down to the living room carrying two cups of tea with me wherever i go up ter the school brooms , but not many first years should note that the slytherins , on dumbledore 's twinkling eyes flashed in the lead , the stone 's safe as long as he liked mr. ollivander moved closer to the dormitories immediately ! percy was in shock . but there have been drifting into an uneasy sleep , but they caught every word like professor mcgonagall , deputy headmistress questions exploded inside harry 's invisibility cloak , looking quite impressed at how a widemouthed tree frog would be going off to bed . he sat back down the street looking at each other ten feet away . a woman standing right behind him . anything to say i 've been here , malfoy , said ron finally . flamel 's name he had finally gone too far . hagrid was standing on it . he looked up at the first morning . harry lay in his sleep . you can come in . we just want to go looking for the snitch clasped in his life and yet he sometimes had the dormitory , and there was a nice toffee , don't you ? that 's something you 've got a hundred and thirteen had no idea what a feeling he swooped in and out of a son called harry . in the common room . we 're coming , said the ghost of professor binns had been known to vanish the second time in hagrid with something like your family within hogwarts . he kept them wide open . the baby banged its tail on the blackboard .\n"
     ]
    }
   ],
   "source": [
    "#Create a new text using trigrams, frequency is as in the book\n",
    "pos=random.randrange(len(tokens))\n",
    "new=[tokens[pos],tokens[pos+1],tokens[pos+2]]\n",
    "\n",
    "for i in range (500):\n",
    "    next_word=random.choice(tris_dic[' '.join([new[-2],new[-1]])])\n",
    "    new.append(next_word)\n",
    "print (' '.join(new))    "
   ]
  },
  {
   "cell_type": "code",
   "execution_count": null,
   "metadata": {},
   "outputs": [],
   "source": []
  }
 ],
 "metadata": {
  "kernelspec": {
   "display_name": "Python (nltk)",
   "language": "python",
   "name": "nltk"
  },
  "language_info": {
   "codemirror_mode": {
    "name": "ipython",
    "version": 3
   },
   "file_extension": ".py",
   "mimetype": "text/x-python",
   "name": "python",
   "nbconvert_exporter": "python",
   "pygments_lexer": "ipython3",
   "version": "3.8.5"
  }
 },
 "nbformat": 4,
 "nbformat_minor": 4
}
